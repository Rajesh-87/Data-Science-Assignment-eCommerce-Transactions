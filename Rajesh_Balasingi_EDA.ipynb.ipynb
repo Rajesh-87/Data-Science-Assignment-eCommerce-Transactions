{
  "cells": [
    {
      "cell_type": "code",
      "execution_count": null,
      "metadata": {
        "id": "4IYISkJSRNOX"
      },
      "outputs": [],
      "source": []
    },
    {
      "cell_type": "code",
      "execution_count": 1,
      "metadata": {
        "colab": {
          "base_uri": "https://localhost:8080/",
          "height": 373
        },
        "id": "OOaOx_UyRP44",
        "outputId": "10929db3-6960-4663-9924-897d8dfbbc43"
      },
      "outputs": [],
      "source": [
        "import pandas as pd\n",
        "import matplotlib.pyplot as plt\n",
        "\n",
        "# Load datasets\n",
        "customers_df = pd.read_csv(\"C:/Users/rajes/Downloads/Customers.csv\")\n",
        "products_df = pd.read_csv(\"C:/Users/rajes/Downloads/Products.csv\")\n",
        "transactions_df = pd.read_csv(\"C:/Users/rajes/Downloads/Transactions.csv\")\n",
        "\n",
        "# Convert date columns to datetime\n",
        "customers_df['SignupDate'] = pd.to_datetime(customers_df['SignupDate'])\n",
        "transactions_df['TransactionDate'] = pd.to_datetime(transactions_df['TransactionDate'])\n",
        "\n",
        "# Popular Product Categories\n",
        "popular_categories = products_df.merge(transactions_df, on='ProductID', how='inner') \\\n",
        "                                .groupby('Category')['Quantity'].sum() \\\n",
        "                                .sort_values(ascending=False)\n",
        "\n",
        "# Transaction Distribution by Region\n",
        "region_transactions = transactions_df.merge(customers_df, on='CustomerID', how='inner') \\\n",
        "                                     .groupby('Region')['TransactionID'].count() \\\n",
        "                                     .sort_values(ascending=False)\n",
        "\n",
        "# Monthly Transactions\n",
        "transactions_df['MonthYear'] = transactions_df['TransactionDate'].dt.to_period('M')\n",
        "monthly_transactions = transactions_df.groupby('MonthYear')['TransactionID'].count()\n",
        "\n",
        "# Top Customers by Spend\n",
        "customer_spending = transactions_df.groupby('CustomerID')['TotalValue'].sum() \\\n",
        "                                   .sort_values(ascending=False).head()\n",
        "\n",
        "# Average Transactions per Category\n",
        "avg_transaction_per_category = popular_categories / products_df.groupby('Category')['ProductID'].count()\n",
        "\n",
        "# Plotting insights\n",
        "plt.figure(figsize=(12, 6))\n",
        "plt.bar(popular_categories.index, popular_categories.values, color='skyblue')\n",
        "plt.title(\"Popular Product Categories by Quantity Sold\")\n",
        "plt.xlabel(\"Category\")\n",
        "plt.ylabel(\"Quantity Sold\")\n",
        "plt.savefig(\"popular_categories.png\")\n",
        "plt.close()\n",
        "\n",
        "plt.figure(figsize=(12, 6))\n",
        "plt.bar(region_transactions.index, region_transactions.values, color='salmon')\n",
        "plt.title(\"Transaction Distribution by Region\")\n",
        "plt.xlabel(\"Region\")\n",
        "plt.ylabel(\"Number of Transactions\")\n",
        "plt.savefig(\"region_transactions.png\")\n",
        "plt.close()\n",
        "\n",
        "plt.figure(figsize=(12, 6))\n",
        "monthly_transactions.plot(kind='line', marker='o', title='Monthly Transactions Over Time')\n",
        "plt.xlabel(\"Month-Year\")\n",
        "plt.ylabel(\"Number of Transactions\")\n",
        "plt.savefig(\"monthly_transactions.png\")\n",
        "plt.close()"
      ]
    }
  ],
  "metadata": {
    "colab": {
      "provenance": []
    },
    "kernelspec": {
      "display_name": "Python 3",
      "name": "python3"
    },
    "language_info": {
      "codemirror_mode": {
        "name": "ipython",
        "version": 3
      },
      "file_extension": ".py",
      "mimetype": "text/x-python",
      "name": "python",
      "nbconvert_exporter": "python",
      "pygments_lexer": "ipython3",
      "version": "3.12.8"
    }
  },
  "nbformat": 4,
  "nbformat_minor": 0
}
